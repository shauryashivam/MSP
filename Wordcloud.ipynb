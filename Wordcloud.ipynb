{
  "nbformat": 4,
  "nbformat_minor": 0,
  "metadata": {
    "kernelspec": {
      "display_name": "Python 3",
      "language": "python",
      "name": "python3"
    },
    "language_info": {
      "codemirror_mode": {
        "name": "ipython",
        "version": 3
      },
      "file_extension": ".py",
      "mimetype": "text/x-python",
      "name": "python",
      "nbconvert_exporter": "python",
      "pygments_lexer": "ipython3",
      "version": "3.7.4"
    },
    "colab": {
      "name": "Wordcloud.ipynb",
      "provenance": [],
      "collapsed_sections": [],
      "include_colab_link": true
    }
  },
  "cells": [
    {
      "cell_type": "markdown",
      "metadata": {
        "id": "view-in-github",
        "colab_type": "text"
      },
      "source": [
        "<a href=\"https://colab.research.google.com/github/shauryashivam/MSP/blob/master/Wordcloud.ipynb\" target=\"_parent\"><img src=\"https://colab.research.google.com/assets/colab-badge.svg\" alt=\"Open In Colab\"/></a>"
      ]
    },
    {
      "cell_type": "markdown",
      "metadata": {
        "id": "IHug6_ryT_2g",
        "colab_type": "text"
      },
      "source": [
        "# **Making a Word Cloud in Python**\n",
        "\n",
        "####   A wordcloud is a collection of words where the size of each word represents its frequency in the given text.\n",
        "\n",
        "![](https://drive.google.com/uc?id=1bnmfNEK3ugS3AOYulKA47tvpVoxlm7GP)\n"
      ]
    },
    {
      "cell_type": "markdown",
      "metadata": {
        "id": "9dnnJ1KuC5Cx",
        "colab_type": "text"
      },
      "source": [
        "## **Step 1: Installing the required packages & Dependencies**\n",
        "\n",
        "**Make Sure You have the Following Packages Intstalled**\n",
        "\n",
        "- Numpy\n",
        "- Pillow\n",
        "- Matplotlib\n",
        "- Wordcloud"
      ]
    },
    {
      "cell_type": "code",
      "metadata": {
        "id": "AHlZ4UaeXMY9",
        "colab_type": "code",
        "outputId": "13728b09-f373-4933-8553-c396dd17ae7e",
        "colab": {
          "base_uri": "https://localhost:8080/",
          "height": 71
        }
      },
      "source": [
        "pip install wordcloud"
      ],
      "execution_count": 0,
      "outputs": [
        {
          "output_type": "stream",
          "text": [
            "Requirement already satisfied: wordcloud in /usr/local/lib/python3.6/dist-packages (1.5.0)\n",
            "Requirement already satisfied: pillow in /usr/local/lib/python3.6/dist-packages (from wordcloud) (7.0.0)\n",
            "Requirement already satisfied: numpy>=1.6.1 in /usr/local/lib/python3.6/dist-packages (from wordcloud) (1.18.4)\n"
          ],
          "name": "stdout"
        }
      ]
    },
    {
      "cell_type": "markdown",
      "metadata": {
        "id": "PZyM9sxUY5o2",
        "colab_type": "text"
      },
      "source": [
        "## **Step 2: Setting Up a basic Wordcloud from a given Text Corpus**"
      ]
    },
    {
      "cell_type": "code",
      "metadata": {
        "id": "c6Xu8ny4Y4rn",
        "colab_type": "code",
        "colab": {}
      },
      "source": [
        "import wordcloud as wc\n",
        "import matplotlib.pyplot as plt"
      ],
      "execution_count": 0,
      "outputs": []
    },
    {
      "cell_type": "code",
      "metadata": {
        "id": "eifuZQ0IY4sH",
        "colab_type": "code",
        "colab": {}
      },
      "source": [
        "file_text = open(\"Corpus.txt\", \"r\")\n",
        "text=\"\".join(word for word in file_text)\n",
        "print(text)"
      ],
      "execution_count": 0,
      "outputs": []
    },
    {
      "cell_type": "code",
      "metadata": {
        "id": "22OKJvrILVNP",
        "colab_type": "code",
        "colab": {}
      },
      "source": [
        "wordcloud = wc.WordCloud().generate(text)"
      ],
      "execution_count": 0,
      "outputs": []
    },
    {
      "cell_type": "markdown",
      "metadata": {
        "id": "wAw70aS3Ze2-",
        "colab_type": "text"
      },
      "source": [
        "- **Print the Wordcloud**"
      ]
    },
    {
      "cell_type": "code",
      "metadata": {
        "id": "5_7QhuMDZT8H",
        "colab_type": "code",
        "colab": {}
      },
      "source": [
        "plt.imshow(wordcloud) \n",
        "plt.axis(\"off\")   \n",
        "plt.show() "
      ],
      "execution_count": 0,
      "outputs": []
    },
    {
      "cell_type": "markdown",
      "metadata": {
        "id": "Sh9wqxKPZnNB",
        "colab_type": "text"
      },
      "source": [
        "## **Step 3: Customizing the Word Cloud**\n",
        "\n",
        "- Changing Background Color\n",
        "- Changing Wordcloud Size\n",
        "- Changing maximum no. of Words\n",
        "- Changing min font size"
      ]
    },
    {
      "cell_type": "code",
      "metadata": {
        "id": "eYP_ydWHcC0s",
        "colab_type": "code",
        "colab": {}
      },
      "source": [
        "wordcloud = wc.WordCloud(background_color ='white',\n",
        "                         width=1600,height=900, \n",
        "                         min_font_size = 5, \n",
        "                         max_words=100).generate(text) "
      ],
      "execution_count": 0,
      "outputs": []
    },
    {
      "cell_type": "code",
      "metadata": {
        "id": "SGi-EaxKhaDW",
        "colab_type": "code",
        "colab": {}
      },
      "source": [
        "plt.figure(figsize = (10, 10), facecolor=None) \n",
        "plt.imshow(wordcloud,interpolation='bilinear') \n",
        "plt.axis(\"off\")   \n",
        "plt.show()"
      ],
      "execution_count": 0,
      "outputs": []
    },
    {
      "cell_type": "markdown",
      "metadata": {
        "id": "RP5QqK0fcVUY",
        "colab_type": "text"
      },
      "source": [
        "## **Step 4: Adding a Mask & Filtering Stopwords**\n",
        "\n",
        "\n"
      ]
    },
    {
      "cell_type": "code",
      "metadata": {
        "id": "-i2Hz2XPYImV",
        "colab_type": "code",
        "colab": {}
      },
      "source": [
        "import numpy as np\n",
        "from PIL import Image\n",
        "from wordcloud import STOPWORDS"
      ],
      "execution_count": 0,
      "outputs": []
    },
    {
      "cell_type": "code",
      "metadata": {
        "id": "YkEp7QlEt5TN",
        "colab_type": "code",
        "colab": {}
      },
      "source": [
        "STOPWORDS"
      ],
      "execution_count": 0,
      "outputs": []
    },
    {
      "cell_type": "code",
      "metadata": {
        "id": "-YR7_Ee5t8CF",
        "colab_type": "code",
        "colab": {}
      },
      "source": [
        "my_stopwords = {'Okay','Pepper','Stark','Iron','Know'}"
      ],
      "execution_count": 0,
      "outputs": []
    },
    {
      "cell_type": "code",
      "metadata": {
        "id": "Lk3HaObHguYB",
        "colab_type": "code",
        "colab": {}
      },
      "source": [
        "STOPWORDS= STOPWORDS | my_stopwords"
      ],
      "execution_count": 0,
      "outputs": []
    },
    {
      "cell_type": "code",
      "metadata": {
        "id": "wxD9z0sSSpjf",
        "colab_type": "code",
        "colab": {}
      },
      "source": [
        "maskArray = np.array(Image.open(\"comment.png\"))"
      ],
      "execution_count": 0,
      "outputs": []
    },
    {
      "cell_type": "code",
      "metadata": {
        "id": "HyqscFG5S3Ud",
        "colab_type": "code",
        "colab": {}
      },
      "source": [
        "wordcloud = wc.WordCloud(background_color ='white', \n",
        "                         min_font_size = 1, max_words=100,\n",
        "                         mask = maskArray,contour_color='black',\n",
        "                         contour_width=3,stopwords=STOPWORDS).generate(text) "
      ],
      "execution_count": 0,
      "outputs": []
    },
    {
      "cell_type": "code",
      "metadata": {
        "id": "aSvaSpMpTAuU",
        "colab_type": "code",
        "colab": {}
      },
      "source": [
        "plt.figure(figsize = (10, 10), facecolor=None) \n",
        "plt.imshow(wordcloud, interpolation=\"bilinear\") \n",
        "plt.axis(\"off\")  \n",
        "plt.tight_layout(pad = 0) \n",
        "plt.show() "
      ],
      "execution_count": 0,
      "outputs": []
    },
    {
      "cell_type": "markdown",
      "metadata": {
        "id": "yQxPaitIoyes",
        "colab_type": "text"
      },
      "source": [
        "## **Step 5: Saving Our Wordcloud**\n",
        "\n",
        "\n"
      ]
    },
    {
      "cell_type": "code",
      "metadata": {
        "id": "PhPt19UboyKs",
        "colab_type": "code",
        "colab": {}
      },
      "source": [
        "wordcloud.to_file(\"my_first_wordcloud.png\")"
      ],
      "execution_count": 0,
      "outputs": []
    },
    {
      "cell_type": "markdown",
      "metadata": {
        "id": "GN8iCTFsjnq_",
        "colab_type": "text"
      },
      "source": [
        "# **Stylecloud**\n",
        "\n",
        "### Stylecloud is a WordCloud Based Python Package which helps to make better looking wordclouds and also makes the task way too easier"
      ]
    },
    {
      "cell_type": "markdown",
      "metadata": {
        "id": "H7lKbEy3k3g1",
        "colab_type": "text"
      },
      "source": [
        " - Installing Stylecloud "
      ]
    },
    {
      "cell_type": "code",
      "metadata": {
        "id": "guftUGR9TZzn",
        "colab_type": "code",
        "colab": {}
      },
      "source": [
        "!pip install stylecloud\n",
        "import stylecloud"
      ],
      "execution_count": 0,
      "outputs": []
    },
    {
      "cell_type": "markdown",
      "metadata": {
        "id": "S6wVefkkodIM",
        "colab_type": "text"
      },
      "source": [
        "- Setting Up a Basic Stylecloud"
      ]
    },
    {
      "cell_type": "code",
      "metadata": {
        "id": "GettFIb8boH6",
        "colab_type": "code",
        "colab": {}
      },
      "source": [
        "stylecloud.gen_stylecloud(file_path = \"Corpus.txt\")"
      ],
      "execution_count": 0,
      "outputs": []
    },
    {
      "cell_type": "markdown",
      "metadata": {
        "id": "5G8ldZC0oiFB",
        "colab_type": "text"
      },
      "source": [
        "- Changing the Mask "
      ]
    },
    {
      "cell_type": "code",
      "metadata": {
        "id": "Z6mZ5zbOkf3H",
        "colab_type": "code",
        "colab": {}
      },
      "source": [
        "stylecloud.gen_stylecloud(file_path = \"Corpus.txt\", icon_name= \"fas fa-comment\")"
      ],
      "execution_count": 0,
      "outputs": []
    },
    {
      "cell_type": "markdown",
      "metadata": {
        "id": "5837a4jWolSo",
        "colab_type": "text"
      },
      "source": [
        "- Adding Stopwords & Changing Colours "
      ]
    },
    {
      "cell_type": "code",
      "metadata": {
        "id": "fi6-OyZRmpdO",
        "colab_type": "code",
        "colab": {}
      },
      "source": [
        "my_custom_stopwords = {\"Tony\", \"Pepper\", \"Iron\", \"Stark\"}\n",
        "my_custom_stopwords= my_custom_stopwords | STOPWORDS\n"
      ],
      "execution_count": 0,
      "outputs": []
    },
    {
      "cell_type": "code",
      "metadata": {
        "id": "V3I9RgxMRzS7",
        "colab_type": "code",
        "colab": {}
      },
      "source": [
        "stylecloud.gen_stylecloud(file_path='Corpus.txt',\n",
        "                          icon_name='fas fa-comment',\n",
        "                          palette='colorbrewer.diverging.Spectral_11',\n",
        "                          background_color='black',gradient='horizontal',\n",
        "                          stopwords=STOPWORDS,\n",
        "                          custom_stopwords=my_custom_stopwords,\n",
        "                          )"
      ],
      "execution_count": 0,
      "outputs": []
    },
    {
      "cell_type": "code",
      "metadata": {
        "id": "1pWuDY_Hquo0",
        "colab_type": "code",
        "colab": {}
      },
      "source": [
        "stylecloud.gen_stylecloud(file_path='Corpus.txt',\n",
        "                          icon_name='fas fa-comment',\n",
        "                          colors=['#ffdb4d', '#ff0000', '#e74c3c'],\n",
        "                          background_color='black',\n",
        "                         )"
      ],
      "execution_count": 0,
      "outputs": []
    },
    {
      "cell_type": "markdown",
      "metadata": {
        "id": "8XDKFG8itDW9",
        "colab_type": "text"
      },
      "source": [
        "# **Thanks!!!**\n",
        "\n",
        "- **Github: shauryashivam**\n"
      ]
    }
  ]
}